{
 "cells": [
  {
   "cell_type": "markdown",
   "metadata": {},
   "source": [
    "# 다중 로지스틱 회귀\n"
   ]
  },
  {
   "cell_type": "code",
   "execution_count": 1,
   "metadata": {},
   "outputs": [
    {
     "data": {
      "text/plain": [
       "'1.15.0'"
      ]
     },
     "execution_count": 1,
     "metadata": {},
     "output_type": "execute_result"
    }
   ],
   "source": [
    "import numpy as np\n",
    "import tensorflow.compat.v1 as tf\n",
    "tf.__version__"
   ]
  },
  {
   "cell_type": "code",
   "execution_count": 2,
   "metadata": {},
   "outputs": [],
   "source": [
    "seed = 0\n",
    "np.random.seed(seed)\n",
    "tf.set_random_seed(seed)"
   ]
  },
  {
   "cell_type": "code",
   "execution_count": 3,
   "metadata": {},
   "outputs": [],
   "source": [
    "x_data = np.array([[2, 3],[4, 3],[6, 4],[8, 6],[10, 7],[12, 8],[14, 9]])\n",
    "y_data = np.array([0, 0, 0, 1, 1, 1, 1]).reshape(7,1)"
   ]
  },
  {
   "cell_type": "code",
   "execution_count": 4,
   "metadata": {},
   "outputs": [
    {
     "name": "stdout",
     "output_type": "stream",
     "text": [
      "(7, 2) (7, 1)\n"
     ]
    }
   ],
   "source": [
    "print(x_data.shape, y_data.shape)"
   ]
  },
  {
   "cell_type": "code",
   "execution_count": 5,
   "metadata": {},
   "outputs": [],
   "source": [
    "# 입력 값을 플레이스 홀더에 저장\n",
    "X = tf.placeholder(tf.float64, shape=[None, 2])\n",
    "Y = tf.placeholder(tf.float64, shape=[None, 1])"
   ]
  },
  {
   "cell_type": "code",
   "execution_count": 6,
   "metadata": {},
   "outputs": [],
   "source": [
    "# 웨이트 a와 바이어스 b의 값을 임의로 정함\n",
    "w = tf.Variable(tf.random_uniform([2,1], dtype=tf.float64))\n",
    "# [2,1] 의미: 들어오는 값은 2개 나가는 값은 1개\n",
    "b = tf.Variable(tf.random_uniform([1], dtype=tf.float64))\n"
   ]
  },
  {
   "cell_type": "code",
   "execution_count": 7,
   "metadata": {},
   "outputs": [],
   "source": [
    "# y 시그모이드 함수의 방정식을 세움\n",
    "yhat = tf.sigmoid(tf.matmul(X, w) + b)"
   ]
  },
  {
   "cell_type": "code",
   "execution_count": 8,
   "metadata": {},
   "outputs": [],
   "source": [
    "# 오차 구하는 함수\n",
    "loss = -tf.reduce_mean(Y * tf.log(yhat) + (1 - Y) * tf.log(1 - yhat))"
   ]
  },
  {
   "cell_type": "code",
   "execution_count": 9,
   "metadata": {},
   "outputs": [],
   "source": [
    "# 학습률 값\n",
    "learning_rate = 0.1"
   ]
  },
  {
   "cell_type": "code",
   "execution_count": 10,
   "metadata": {},
   "outputs": [],
   "source": [
    "# 오차를 최소로 하는 값 찾기\n",
    "# 경사 하강법에 있는 최적화를 쓰겠다\n",
    "# 평균값을 최소화하는 경우로 학습하겠다\n",
    "gradient_decent = tf.train.GradientDescentOptimizer(learning_rate).minimize(loss)"
   ]
  },
  {
   "cell_type": "code",
   "execution_count": 11,
   "metadata": {},
   "outputs": [],
   "source": [
    "# y값이 0.5보다 크면 실수값으로 (1아니면 0으로) 받겠다\n",
    "predicted = tf.cast(yhat > 0.5, dtype = tf.float64)\n",
    "accuracy = tf.reduce_mean(tf.cast(tf.equal(predicted, Y), dtype = tf.float64))"
   ]
  },
  {
   "cell_type": "code",
   "execution_count": 12,
   "metadata": {},
   "outputs": [
    {
     "name": "stdout",
     "output_type": "stream",
     "text": [
      "step=300, w1=0.8426, w2=-0.5997, b=-2.3907, loss=0.2694\n",
      "step=600, w1=0.8348, w2=-0.3166, b=-3.8630, loss=0.1932\n",
      "step=900, w1=0.7423, w2=0.0153, b=-4.9311, loss=0.1510\n",
      "step=1200, w1=0.6372, w2=0.3245, b=-5.7765, loss=0.1235\n",
      "step=1500, w1=0.5373, w2=0.5996, b=-6.4775, loss=0.1042\n",
      "step=1800, w1=0.4471, w2=0.8421, b=-7.0768, loss=0.0900\n",
      "step=2100, w1=0.3670, w2=1.0561, b=-7.6003, loss=0.0791\n",
      "step=2400, w1=0.2962, w2=1.2458, b=-8.0652, loss=0.0705\n",
      "step=2700, w1=0.2336, w2=1.4152, b=-8.4834, loss=0.0636\n",
      "step=3000, w1=0.1779, w2=1.5675, b=-8.8635, loss=0.0579\n",
      "공부한 시간: 7, 과외 수업 횟수: 6\n",
      "합격할 가능성:  85.66 %\n"
     ]
    }
   ],
   "source": [
    "# 학습(3000번 300번 단위로)\n",
    "with tf.Session() as sess:\n",
    "    sess.run(tf.global_variables_initializer())\n",
    "    \n",
    "    for i in range(3001):\n",
    "        w_, b_, loss_, _ = sess.run([w, b, loss, gradient_decent], feed_dict={X: x_data, Y: y_data})\n",
    "        if(i + 1) % 300 ==0:\n",
    "            print(\"step=%d, w1=%.4f, w2=%.4f, b=%.4f, loss=%.4f\" % \n",
    "                  (i + 1, w_[0], w_[1], b_, loss_))\n",
    "            \n",
    "    new_x = np.array([7, 6.]).reshape(1,2) # [7,6]은 각각 공부한 시간과 과외 수업 횟수\n",
    "    new_y = sess.run(yhat, feed_dict={X:new_x})\n",
    "    \n",
    "    print(\"공부한 시간: %d, 과외 수업 횟수: %d\" %(new_x[:,0], new_x[:,1]))\n",
    "    print(\"합격할 가능성: %6.2f %%\" %(new_y*100))"
   ]
  },
  {
   "cell_type": "code",
   "execution_count": 13,
   "metadata": {},
   "outputs": [
    {
     "name": "stdout",
     "output_type": "stream",
     "text": [
      "step=3000, w1=0.1779, w2=1.5675, b=-8.8635, loss=0.0579\n",
      "step=6000, w1=-0.1617, w2=2.5571, b=-11.4773, loss=0.0305\n",
      "step=9000, w1=-0.3345, w2=3.1147, b=-13.0732, loss=0.0208\n",
      "step=12000, w1=-0.4483, w2=3.5026, b=-14.2254, loss=0.0158\n",
      "step=15000, w1=-0.5329, w2=3.8003, b=-15.1281, loss=0.0127\n",
      "step=18000, w1=-0.6002, w2=4.0422, b=-15.8705, loss=0.0106\n",
      "step=21000, w1=-0.6561, w2=4.2459, b=-16.5013, loss=0.0092\n",
      "step=24000, w1=-0.7039, w2=4.4221, b=-17.0497, loss=0.0081\n",
      "step=27000, w1=-0.7456, w2=4.5772, b=-17.5349, loss=0.0072\n",
      "step=30000, w1=-0.7827, w2=4.7158, b=-17.9700, loss=0.0065\n",
      "step=33000, w1=-0.8160, w2=4.8410, b=-18.3644, loss=0.0059\n",
      "step=36000, w1=-0.8463, w2=4.9553, b=-18.7252, loss=0.0054\n",
      "step=39000, w1=-0.8740, w2=5.0605, b=-19.0576, loss=0.0050\n",
      "step=42000, w1=-0.8996, w2=5.1577, b=-19.3658, loss=0.0047\n",
      "step=45000, w1=-0.9234, w2=5.2483, b=-19.6531, loss=0.0044\n",
      "step=48000, w1=-0.9455, w2=5.3330, b=-19.9222, loss=0.0041\n",
      "step=51000, w1=-0.9663, w2=5.4126, b=-20.1752, loss=0.0039\n",
      "step=54000, w1=-0.9858, w2=5.4876, b=-20.4140, loss=0.0037\n",
      "step=57000, w1=-1.0043, w2=5.5585, b=-20.6401, loss=0.0035\n",
      "step=60000, w1=-1.0218, w2=5.6258, b=-20.8548, loss=0.0033\n",
      "공부한 시간: 7, 과외 수업 횟수: 6\n",
      "합격할 가능성:  99.68 %\n"
     ]
    }
   ],
   "source": [
    "# 학습(60000만번 3000번 단위로)\n",
    "with tf.Session() as sess:\n",
    "    sess.run(tf.global_variables_initializer())\n",
    "    \n",
    "    for i in range(60001):\n",
    "        w_, b_, loss_, _ = sess.run([w, b, loss, gradient_decent], feed_dict={X: x_data, Y: y_data})\n",
    "        if(i + 1) % 3000 ==0:\n",
    "            print(\"step=%d, w1=%.4f, w2=%.4f, b=%.4f, loss=%.4f\" % \n",
    "                  (i + 1, w_[0], w_[1], b_, loss_))\n",
    "            \n",
    "    new_x = np.array([7, 6.]).reshape(1,2) # [7,6]은 각각 공부한 시간과 과외 수업 횟수\n",
    "    new_y = sess.run(yhat, feed_dict={X:new_x})\n",
    "    \n",
    "    print(\"공부한 시간: %d, 과외 수업 횟수: %d\" %(new_x[:,0], new_x[:,1]))\n",
    "    print(\"합격할 가능성: %6.2f %%\" %(new_y*100))"
   ]
  },
  {
   "cell_type": "markdown",
   "metadata": {},
   "source": [
    "## 계산으로 확인"
   ]
  },
  {
   "cell_type": "code",
   "execution_count": 14,
   "metadata": {},
   "outputs": [
    {
     "data": {
      "text/plain": [
       "(1, 2)"
      ]
     },
     "execution_count": 14,
     "metadata": {},
     "output_type": "execute_result"
    }
   ],
   "source": [
    "m1 = np.array([7,6.]).reshape(1,2)\n",
    "m1.shape"
   ]
  },
  {
   "cell_type": "code",
   "execution_count": 15,
   "metadata": {},
   "outputs": [
    {
     "data": {
      "text/plain": [
       "(2, 1)"
      ]
     },
     "execution_count": 15,
     "metadata": {},
     "output_type": "execute_result"
    }
   ],
   "source": [
    "m2 = np.array([0.1779, 1.5675]).reshape(2,1)\n",
    "m2.shape"
   ]
  },
  {
   "cell_type": "code",
   "execution_count": 16,
   "metadata": {},
   "outputs": [
    {
     "data": {
      "text/plain": [
       "array([[10.6503]])"
      ]
     },
     "execution_count": 16,
     "metadata": {},
     "output_type": "execute_result"
    }
   ],
   "source": [
    "np.matmul(m1, m2)"
   ]
  },
  {
   "cell_type": "code",
   "execution_count": 17,
   "metadata": {},
   "outputs": [],
   "source": [
    "def sigmoid(x):\n",
    "    return 1/(1 + np.exp(-x))"
   ]
  },
  {
   "cell_type": "code",
   "execution_count": 18,
   "metadata": {},
   "outputs": [
    {
     "name": "stdout",
     "output_type": "stream",
     "text": [
      "0.8565344988956533\n"
     ]
    }
   ],
   "source": [
    "print(sigmoid(10.6503 - 8.8635))"
   ]
  },
  {
   "cell_type": "code",
   "execution_count": null,
   "metadata": {},
   "outputs": [],
   "source": []
  }
 ],
 "metadata": {
  "kernelspec": {
   "display_name": "Python 3",
   "language": "python",
   "name": "python3"
  },
  "language_info": {
   "codemirror_mode": {
    "name": "ipython",
    "version": 3
   },
   "file_extension": ".py",
   "mimetype": "text/x-python",
   "name": "python",
   "nbconvert_exporter": "python",
   "pygments_lexer": "ipython3",
   "version": "3.7.7"
  }
 },
 "nbformat": 4,
 "nbformat_minor": 4
}

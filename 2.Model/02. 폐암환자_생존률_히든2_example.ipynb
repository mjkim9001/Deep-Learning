{
 "cells": [
  {
   "cell_type": "markdown",
   "metadata": {},
   "source": [
    "# 폐암환자 생존률"
   ]
  },
  {
   "cell_type": "code",
   "execution_count": 1,
   "metadata": {},
   "outputs": [
    {
     "data": {
      "text/plain": [
       "'2.1.0'"
      ]
     },
     "execution_count": 1,
     "metadata": {},
     "output_type": "execute_result"
    }
   ],
   "source": [
    "import numpy as np\n",
    "import tensorflow as tf\n",
    "tf.__version__"
   ]
  },
  {
   "cell_type": "code",
   "execution_count": 2,
   "metadata": {},
   "outputs": [],
   "source": [
    "from tensorflow.keras.models import Sequential\n",
    "from tensorflow.keras.layers import Dense"
   ]
  },
  {
   "cell_type": "code",
   "execution_count": 3,
   "metadata": {},
   "outputs": [],
   "source": [
    "seed = 2020\n",
    "np.random.seed(seed)\n",
    "tf.random.set_seed(seed)"
   ]
  },
  {
   "cell_type": "code",
   "execution_count": 4,
   "metadata": {
    "scrolled": true
   },
   "outputs": [
    {
     "data": {
      "text/plain": [
       "array([[293.  ,   1.  ,   3.8 , ...,   0.  ,  62.  ,   0.  ],\n",
       "       [  1.  ,   2.  ,   2.88, ...,   0.  ,  60.  ,   0.  ],\n",
       "       [  8.  ,   2.  ,   3.19, ...,   0.  ,  66.  ,   1.  ],\n",
       "       ...,\n",
       "       [406.  ,   6.  ,   5.36, ...,   0.  ,  62.  ,   0.  ],\n",
       "       [ 25.  ,   8.  ,   4.32, ...,   0.  ,  58.  ,   1.  ],\n",
       "       [447.  ,   8.  ,   5.2 , ...,   0.  ,  49.  ,   0.  ]])"
      ]
     },
     "execution_count": 4,
     "metadata": {},
     "output_type": "execute_result"
    }
   ],
   "source": [
    "data_set = np.loadtxt(\"../dataset/ThoraricSurgery.csv\", delimiter=\",\")\n",
    "data_set"
   ]
  },
  {
   "cell_type": "code",
   "execution_count": 5,
   "metadata": {},
   "outputs": [
    {
     "data": {
      "text/plain": [
       "((470, 17), (470,))"
      ]
     },
     "execution_count": 5,
     "metadata": {},
     "output_type": "execute_result"
    }
   ],
   "source": [
    "# 환자의 기록과 수술 결과를 X와 Y로 구분하여 저장\n",
    "# 17개의 input  hiddenlayer(은닉층) 34개\n",
    "X = data_set[:,0:17]\n",
    "Y = data_set[:, 17]\n",
    "X.shape, Y.shape"
   ]
  },
  {
   "cell_type": "code",
   "execution_count": 6,
   "metadata": {},
   "outputs": [],
   "source": [
    "from sklearn.model_selection import train_test_split\n",
    "\n",
    "X_train, X_test, Y_train, Y_test = train_test_split(X, Y, test_size=0.2,stratify = Y, random_state=seed)"
   ]
  },
  {
   "cell_type": "code",
   "execution_count": 7,
   "metadata": {
    "scrolled": true
   },
   "outputs": [
    {
     "name": "stdout",
     "output_type": "stream",
     "text": [
      "Model: \"sequential\"\n",
      "_________________________________________________________________\n",
      "Layer (type)                 Output Shape              Param #   \n",
      "=================================================================\n",
      "dense (Dense)                (None, 24)                432       \n",
      "_________________________________________________________________\n",
      "dense_1 (Dense)              (None, 8)                 200       \n",
      "_________________________________________________________________\n",
      "dense_2 (Dense)              (None, 1)                 9         \n",
      "=================================================================\n",
      "Total params: 641\n",
      "Trainable params: 641\n",
      "Non-trainable params: 0\n",
      "_________________________________________________________________\n"
     ]
    }
   ],
   "source": [
    "# 딥러닝 모델 설정\n",
    "model = Sequential([\n",
    "    Dense(24, input_shape = (17,), activation ='relu'),\n",
    "    Dense(8, activation ='relu'),\n",
    "    Dense(1, activation = 'sigmoid')\n",
    "])\n",
    "model.summary()"
   ]
  },
  {
   "cell_type": "code",
   "execution_count": 8,
   "metadata": {},
   "outputs": [],
   "source": [
    "# 딥러닝 환경 설정 (오차함수, 최적화함수)\n",
    "model.compile(loss = 'binary_crossentropy', optimizer = 'adam', metrics = ['accuracy'])"
   ]
  },
  {
   "cell_type": "code",
   "execution_count": 9,
   "metadata": {
    "scrolled": true
   },
   "outputs": [
    {
     "name": "stdout",
     "output_type": "stream",
     "text": [
      "Train on 300 samples, validate on 76 samples\n",
      "Epoch 1/20\n",
      "300/300 [==============================] - 0s 1ms/sample - loss: 51.2430 - accuracy: 0.2033 - val_loss: 18.7283 - val_accuracy: 0.1842\n",
      "Epoch 2/20\n",
      "300/300 [==============================] - 0s 99us/sample - loss: 4.9336 - accuracy: 0.5733 - val_loss: 1.7841 - val_accuracy: 0.8289\n",
      "Epoch 3/20\n",
      "300/300 [==============================] - 0s 93us/sample - loss: 1.3142 - accuracy: 0.8567 - val_loss: 1.1468 - val_accuracy: 0.8289\n",
      "Epoch 4/20\n",
      "300/300 [==============================] - 0s 94us/sample - loss: 0.6015 - accuracy: 0.8067 - val_loss: 0.9503 - val_accuracy: 0.8289\n",
      "Epoch 5/20\n",
      "300/300 [==============================] - 0s 96us/sample - loss: 0.5635 - accuracy: 0.8267 - val_loss: 0.9771 - val_accuracy: 0.7368\n",
      "Epoch 6/20\n",
      "300/300 [==============================] - 0s 95us/sample - loss: 0.5161 - accuracy: 0.8433 - val_loss: 0.9497 - val_accuracy: 0.8289\n",
      "Epoch 7/20\n",
      "300/300 [==============================] - 0s 93us/sample - loss: 0.5225 - accuracy: 0.8267 - val_loss: 0.9616 - val_accuracy: 0.8289\n",
      "Epoch 8/20\n",
      "300/300 [==============================] - 0s 85us/sample - loss: 0.4958 - accuracy: 0.8433 - val_loss: 0.9657 - val_accuracy: 0.8289\n",
      "Epoch 9/20\n",
      "300/300 [==============================] - 0s 83us/sample - loss: 0.4865 - accuracy: 0.8567 - val_loss: 0.9540 - val_accuracy: 0.8289\n",
      "Epoch 10/20\n",
      "300/300 [==============================] - 0s 87us/sample - loss: 0.4711 - accuracy: 0.8500 - val_loss: 0.9542 - val_accuracy: 0.8289\n",
      "Epoch 11/20\n",
      "300/300 [==============================] - 0s 97us/sample - loss: 0.4626 - accuracy: 0.8533 - val_loss: 0.9215 - val_accuracy: 0.8289\n",
      "Epoch 12/20\n",
      "300/300 [==============================] - 0s 100us/sample - loss: 0.4647 - accuracy: 0.8533 - val_loss: 0.9052 - val_accuracy: 0.8289\n",
      "Epoch 13/20\n",
      "300/300 [==============================] - 0s 93us/sample - loss: 0.4665 - accuracy: 0.8400 - val_loss: 0.9274 - val_accuracy: 0.8289\n",
      "Epoch 14/20\n",
      "300/300 [==============================] - 0s 93us/sample - loss: 0.4733 - accuracy: 0.8567 - val_loss: 0.8956 - val_accuracy: 0.8289\n",
      "Epoch 15/20\n",
      "300/300 [==============================] - 0s 92us/sample - loss: 0.4972 - accuracy: 0.8500 - val_loss: 0.9020 - val_accuracy: 0.8289\n",
      "Epoch 16/20\n",
      "300/300 [==============================] - 0s 99us/sample - loss: 0.4541 - accuracy: 0.8500 - val_loss: 0.8671 - val_accuracy: 0.8289\n",
      "Epoch 17/20\n",
      "300/300 [==============================] - 0s 95us/sample - loss: 0.4482 - accuracy: 0.8533 - val_loss: 0.8789 - val_accuracy: 0.8289\n",
      "Epoch 18/20\n",
      "300/300 [==============================] - 0s 99us/sample - loss: 0.4746 - accuracy: 0.8500 - val_loss: 0.8343 - val_accuracy: 0.8289\n",
      "Epoch 19/20\n",
      "300/300 [==============================] - 0s 100us/sample - loss: 0.4483 - accuracy: 0.8567 - val_loss: 0.8298 - val_accuracy: 0.8289\n",
      "Epoch 20/20\n",
      "300/300 [==============================] - 0s 95us/sample - loss: 0.4346 - accuracy: 0.8567 - val_loss: 0.8153 - val_accuracy: 0.8289\n"
     ]
    }
   ],
   "source": [
    "# 딥러닝 실행\n",
    "# Validation set의 비율을 20% (validation_split=0.2)\n",
    "history = model.fit(X_train, Y_train, validation_split = 0.2, epochs=20, batch_size=10)"
   ]
  },
  {
   "cell_type": "code",
   "execution_count": 10,
   "metadata": {},
   "outputs": [
    {
     "name": "stdout",
     "output_type": "stream",
     "text": [
      "94/94 - 0s - loss: 0.5736 - accuracy: 0.8404\n",
      "\n",
      " Accuracy : 0.8404\n"
     ]
    }
   ],
   "source": [
    "# 결과 출력\n",
    "# evaluate() returns the loss value & metrics values for the model\n",
    "print(\"\\n Accuracy : %.4f\" %(model.evaluate(X_test,Y_test, verbose=2))[1])"
   ]
  },
  {
   "cell_type": "code",
   "execution_count": 11,
   "metadata": {},
   "outputs": [
    {
     "data": {
      "text/plain": [
       "<tensorflow.python.keras.callbacks.History at 0x292c1e39108>"
      ]
     },
     "execution_count": 11,
     "metadata": {},
     "output_type": "execute_result"
    }
   ],
   "source": [
    "history"
   ]
  },
  {
   "cell_type": "code",
   "execution_count": 12,
   "metadata": {},
   "outputs": [
    {
     "data": {
      "text/plain": [
       "{'loss': [51.243048985799156,\n",
       "  4.933604442530001,\n",
       "  1.3141637967162145,\n",
       "  0.6014865250947575,\n",
       "  0.5634837577740351,\n",
       "  0.5160896414270003,\n",
       "  0.5225433918337027,\n",
       "  0.49577153859039147,\n",
       "  0.48653293078144394,\n",
       "  0.4711242228746414,\n",
       "  0.4626161669691404,\n",
       "  0.4646964612106482,\n",
       "  0.4665033561487993,\n",
       "  0.47327292064825693,\n",
       "  0.49721479701499144,\n",
       "  0.4540569566190243,\n",
       "  0.4481890721867482,\n",
       "  0.47461363996068634,\n",
       "  0.44831350495417915,\n",
       "  0.4345671263833841],\n",
       " 'accuracy': [0.20333333,\n",
       "  0.5733333,\n",
       "  0.8566667,\n",
       "  0.8066667,\n",
       "  0.82666665,\n",
       "  0.8433333,\n",
       "  0.82666665,\n",
       "  0.8433333,\n",
       "  0.8566667,\n",
       "  0.85,\n",
       "  0.85333335,\n",
       "  0.85333335,\n",
       "  0.84,\n",
       "  0.8566667,\n",
       "  0.85,\n",
       "  0.85,\n",
       "  0.85333335,\n",
       "  0.85,\n",
       "  0.8566667,\n",
       "  0.8566667],\n",
       " 'val_loss': [18.72832004647506,\n",
       "  1.7841494274723932,\n",
       "  1.1468149116262794,\n",
       "  0.9503166161869702,\n",
       "  0.9771337783650348,\n",
       "  0.9496900588274002,\n",
       "  0.961576766481525,\n",
       "  0.9656899851795874,\n",
       "  0.9540455090372186,\n",
       "  0.9542108268329972,\n",
       "  0.9215231035885058,\n",
       "  0.9051709092761341,\n",
       "  0.9273907870642448,\n",
       "  0.895631417632103,\n",
       "  0.9020212112288726,\n",
       "  0.8671202629216408,\n",
       "  0.8788840588378278,\n",
       "  0.8342970576333372,\n",
       "  0.8298305353443873,\n",
       "  0.8152940798746912],\n",
       " 'val_accuracy': [0.18421052,\n",
       "  0.82894737,\n",
       "  0.82894737,\n",
       "  0.82894737,\n",
       "  0.7368421,\n",
       "  0.82894737,\n",
       "  0.82894737,\n",
       "  0.82894737,\n",
       "  0.82894737,\n",
       "  0.82894737,\n",
       "  0.82894737,\n",
       "  0.82894737,\n",
       "  0.82894737,\n",
       "  0.82894737,\n",
       "  0.82894737,\n",
       "  0.82894737,\n",
       "  0.82894737,\n",
       "  0.82894737,\n",
       "  0.82894737,\n",
       "  0.82894737]}"
      ]
     },
     "execution_count": 12,
     "metadata": {},
     "output_type": "execute_result"
    }
   ],
   "source": [
    "history.history"
   ]
  },
  {
   "cell_type": "code",
   "execution_count": 13,
   "metadata": {},
   "outputs": [
    {
     "data": {
      "text/html": [
       "<div>\n",
       "<style scoped>\n",
       "    .dataframe tbody tr th:only-of-type {\n",
       "        vertical-align: middle;\n",
       "    }\n",
       "\n",
       "    .dataframe tbody tr th {\n",
       "        vertical-align: top;\n",
       "    }\n",
       "\n",
       "    .dataframe thead th {\n",
       "        text-align: right;\n",
       "    }\n",
       "</style>\n",
       "<table border=\"1\" class=\"dataframe\">\n",
       "  <thead>\n",
       "    <tr style=\"text-align: right;\">\n",
       "      <th></th>\n",
       "      <th>loss</th>\n",
       "      <th>accuracy</th>\n",
       "      <th>val_loss</th>\n",
       "      <th>val_accuracy</th>\n",
       "    </tr>\n",
       "  </thead>\n",
       "  <tbody>\n",
       "    <tr>\n",
       "      <th>0</th>\n",
       "      <td>51.243049</td>\n",
       "      <td>0.203333</td>\n",
       "      <td>18.728320</td>\n",
       "      <td>0.184211</td>\n",
       "    </tr>\n",
       "    <tr>\n",
       "      <th>1</th>\n",
       "      <td>4.933604</td>\n",
       "      <td>0.573333</td>\n",
       "      <td>1.784149</td>\n",
       "      <td>0.828947</td>\n",
       "    </tr>\n",
       "    <tr>\n",
       "      <th>2</th>\n",
       "      <td>1.314164</td>\n",
       "      <td>0.856667</td>\n",
       "      <td>1.146815</td>\n",
       "      <td>0.828947</td>\n",
       "    </tr>\n",
       "    <tr>\n",
       "      <th>3</th>\n",
       "      <td>0.601487</td>\n",
       "      <td>0.806667</td>\n",
       "      <td>0.950317</td>\n",
       "      <td>0.828947</td>\n",
       "    </tr>\n",
       "    <tr>\n",
       "      <th>4</th>\n",
       "      <td>0.563484</td>\n",
       "      <td>0.826667</td>\n",
       "      <td>0.977134</td>\n",
       "      <td>0.736842</td>\n",
       "    </tr>\n",
       "  </tbody>\n",
       "</table>\n",
       "</div>"
      ],
      "text/plain": [
       "        loss  accuracy   val_loss  val_accuracy\n",
       "0  51.243049  0.203333  18.728320      0.184211\n",
       "1   4.933604  0.573333   1.784149      0.828947\n",
       "2   1.314164  0.856667   1.146815      0.828947\n",
       "3   0.601487  0.806667   0.950317      0.828947\n",
       "4   0.563484  0.826667   0.977134      0.736842"
      ]
     },
     "execution_count": 13,
     "metadata": {},
     "output_type": "execute_result"
    }
   ],
   "source": [
    "import pandas as pd\n",
    "df = pd.DataFrame(data = history.history)\n",
    "df.head()"
   ]
  },
  {
   "cell_type": "code",
   "execution_count": null,
   "metadata": {},
   "outputs": [],
   "source": []
  }
 ],
 "metadata": {
  "kernelspec": {
   "display_name": "Python 3",
   "language": "python",
   "name": "python3"
  },
  "language_info": {
   "codemirror_mode": {
    "name": "ipython",
    "version": 3
   },
   "file_extension": ".py",
   "mimetype": "text/x-python",
   "name": "python",
   "nbconvert_exporter": "python",
   "pygments_lexer": "ipython3",
   "version": "3.7.7"
  }
 },
 "nbformat": 4,
 "nbformat_minor": 4
}

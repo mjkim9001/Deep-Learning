{
 "cells": [
  {
   "cell_type": "markdown",
   "metadata": {},
   "source": [
    "# 폐암환자 생존률"
   ]
  },
  {
   "cell_type": "code",
   "execution_count": 1,
   "metadata": {},
   "outputs": [
    {
     "data": {
      "text/plain": [
       "'2.1.0'"
      ]
     },
     "execution_count": 1,
     "metadata": {},
     "output_type": "execute_result"
    }
   ],
   "source": [
    "import numpy as np\n",
    "import tensorflow as tf\n",
    "tf.__version__"
   ]
  },
  {
   "cell_type": "code",
   "execution_count": 2,
   "metadata": {},
   "outputs": [],
   "source": [
    "from tensorflow.keras.models import Sequential\n",
    "from tensorflow.keras.layers import Dense"
   ]
  },
  {
   "cell_type": "code",
   "execution_count": 3,
   "metadata": {},
   "outputs": [],
   "source": [
    "seed = 2020\n",
    "np.random.seed(seed)\n",
    "tf.random.set_seed(seed)"
   ]
  },
  {
   "cell_type": "code",
   "execution_count": 4,
   "metadata": {
    "scrolled": true
   },
   "outputs": [
    {
     "data": {
      "text/plain": [
       "array([[293.  ,   1.  ,   3.8 , ...,   0.  ,  62.  ,   0.  ],\n",
       "       [  1.  ,   2.  ,   2.88, ...,   0.  ,  60.  ,   0.  ],\n",
       "       [  8.  ,   2.  ,   3.19, ...,   0.  ,  66.  ,   1.  ],\n",
       "       ...,\n",
       "       [406.  ,   6.  ,   5.36, ...,   0.  ,  62.  ,   0.  ],\n",
       "       [ 25.  ,   8.  ,   4.32, ...,   0.  ,  58.  ,   1.  ],\n",
       "       [447.  ,   8.  ,   5.2 , ...,   0.  ,  49.  ,   0.  ]])"
      ]
     },
     "execution_count": 4,
     "metadata": {},
     "output_type": "execute_result"
    }
   ],
   "source": [
    "data_set = np.loadtxt(\"../dataset/ThoraricSurgery.csv\", delimiter=\",\")\n",
    "data_set"
   ]
  },
  {
   "cell_type": "code",
   "execution_count": 5,
   "metadata": {},
   "outputs": [
    {
     "data": {
      "text/plain": [
       "((470, 17), (470,))"
      ]
     },
     "execution_count": 5,
     "metadata": {},
     "output_type": "execute_result"
    }
   ],
   "source": [
    "# 환자의 기록과 수술 결과를 X와 Y로 구분하여 저장\n",
    "# 17개의 input  hiddenlayer(은닉층) 34개\n",
    "X = data_set[:,0:17]\n",
    "Y = data_set[:, 17]\n",
    "X.shape, Y.shape"
   ]
  },
  {
   "cell_type": "code",
   "execution_count": 6,
   "metadata": {},
   "outputs": [],
   "source": [
    "from sklearn.model_selection import train_test_split\n",
    "\n",
    "X_train, X_test, Y_train, Y_test = train_test_split(X, Y, test_size=0.2,stratify = Y, random_state=seed)"
   ]
  },
  {
   "cell_type": "code",
   "execution_count": 7,
   "metadata": {
    "scrolled": true
   },
   "outputs": [
    {
     "name": "stdout",
     "output_type": "stream",
     "text": [
      "Model: \"sequential\"\n",
      "_________________________________________________________________\n",
      "Layer (type)                 Output Shape              Param #   \n",
      "=================================================================\n",
      "dense (Dense)                (None, 30)                540       \n",
      "_________________________________________________________________\n",
      "dense_1 (Dense)              (None, 1)                 31        \n",
      "=================================================================\n",
      "Total params: 571\n",
      "Trainable params: 571\n",
      "Non-trainable params: 0\n",
      "_________________________________________________________________\n"
     ]
    }
   ],
   "source": [
    "# 딥러닝 모델 설정\n",
    "model = Sequential([\n",
    "    Dense(30, input_shape = (17,), activation ='relu'),\n",
    "    Dense(1, activation = 'sigmoid')\n",
    "])\n",
    "model.summary()"
   ]
  },
  {
   "cell_type": "code",
   "execution_count": 8,
   "metadata": {},
   "outputs": [],
   "source": [
    "# 딥러닝 환경 설정 (오차함수, 최적화함수)\n",
    "model.compile(loss = 'binary_crossentropy', optimizer = 'adam', metrics = ['accuracy'])"
   ]
  },
  {
   "cell_type": "code",
   "execution_count": 9,
   "metadata": {
    "scrolled": true
   },
   "outputs": [
    {
     "name": "stdout",
     "output_type": "stream",
     "text": [
      "Train on 300 samples, validate on 76 samples\n",
      "Epoch 1/20\n",
      "300/300 [==============================] - 0s 961us/sample - loss: 7.7712 - accuracy: 0.5333 - val_loss: 2.8179 - val_accuracy: 0.8158\n",
      "Epoch 2/20\n",
      "300/300 [==============================] - 0s 114us/sample - loss: 2.4820 - accuracy: 0.8400 - val_loss: 2.0174 - val_accuracy: 0.8026\n",
      "Epoch 3/20\n",
      "300/300 [==============================] - 0s 89us/sample - loss: 1.7386 - accuracy: 0.7867 - val_loss: 1.4741 - val_accuracy: 0.7895\n",
      "Epoch 4/20\n",
      "300/300 [==============================] - 0s 95us/sample - loss: 1.1291 - accuracy: 0.7867 - val_loss: 0.9313 - val_accuracy: 0.8289\n",
      "Epoch 5/20\n",
      "300/300 [==============================] - 0s 98us/sample - loss: 0.6603 - accuracy: 0.8067 - val_loss: 0.7672 - val_accuracy: 0.8289\n",
      "Epoch 6/20\n",
      "300/300 [==============================] - 0s 96us/sample - loss: 0.5663 - accuracy: 0.8300 - val_loss: 0.7330 - val_accuracy: 0.8289\n",
      "Epoch 7/20\n",
      "300/300 [==============================] - 0s 95us/sample - loss: 0.5571 - accuracy: 0.8133 - val_loss: 0.8037 - val_accuracy: 0.8289\n",
      "Epoch 8/20\n",
      "300/300 [==============================] - 0s 93us/sample - loss: 0.5188 - accuracy: 0.8300 - val_loss: 0.7145 - val_accuracy: 0.8158\n",
      "Epoch 9/20\n",
      "300/300 [==============================] - 0s 96us/sample - loss: 0.5399 - accuracy: 0.8233 - val_loss: 0.7429 - val_accuracy: 0.7237\n",
      "Epoch 10/20\n",
      "300/300 [==============================] - 0s 90us/sample - loss: 0.5006 - accuracy: 0.8433 - val_loss: 0.7270 - val_accuracy: 0.8289\n",
      "Epoch 11/20\n",
      "300/300 [==============================] - 0s 95us/sample - loss: 0.4525 - accuracy: 0.8567 - val_loss: 0.6745 - val_accuracy: 0.8289\n",
      "Epoch 12/20\n",
      "300/300 [==============================] - 0s 97us/sample - loss: 0.4576 - accuracy: 0.8433 - val_loss: 0.6814 - val_accuracy: 0.8026\n",
      "Epoch 13/20\n",
      "300/300 [==============================] - 0s 97us/sample - loss: 0.4733 - accuracy: 0.8200 - val_loss: 0.8162 - val_accuracy: 0.8289\n",
      "Epoch 14/20\n",
      "300/300 [==============================] - 0s 96us/sample - loss: 0.5096 - accuracy: 0.8267 - val_loss: 0.7304 - val_accuracy: 0.8289\n",
      "Epoch 15/20\n",
      "300/300 [==============================] - 0s 92us/sample - loss: 0.5462 - accuracy: 0.8300 - val_loss: 0.7367 - val_accuracy: 0.8289\n",
      "Epoch 16/20\n",
      "300/300 [==============================] - 0s 94us/sample - loss: 0.4353 - accuracy: 0.8433 - val_loss: 0.6532 - val_accuracy: 0.8289\n",
      "Epoch 17/20\n",
      "300/300 [==============================] - 0s 95us/sample - loss: 0.4441 - accuracy: 0.8300 - val_loss: 0.8023 - val_accuracy: 0.8289\n",
      "Epoch 18/20\n",
      "300/300 [==============================] - 0s 95us/sample - loss: 0.5188 - accuracy: 0.8200 - val_loss: 0.6303 - val_accuracy: 0.8289\n",
      "Epoch 19/20\n",
      "300/300 [==============================] - 0s 97us/sample - loss: 0.4388 - accuracy: 0.8533 - val_loss: 0.6447 - val_accuracy: 0.8289\n",
      "Epoch 20/20\n",
      "300/300 [==============================] - 0s 90us/sample - loss: 0.4244 - accuracy: 0.8567 - val_loss: 0.6286 - val_accuracy: 0.8289\n"
     ]
    }
   ],
   "source": [
    "# 딥러닝 실행\n",
    "# Validation set의 비율을 20% (validation_split=0.2)\n",
    "history = model.fit(X_train, Y_train, validation_split = 0.2, epochs=20, batch_size=10)"
   ]
  },
  {
   "cell_type": "code",
   "execution_count": 10,
   "metadata": {},
   "outputs": [
    {
     "name": "stdout",
     "output_type": "stream",
     "text": [
      "94/94 - 0s - loss: 0.4732 - accuracy: 0.8404\n",
      "\n",
      " Accuracy : 0.8404\n"
     ]
    }
   ],
   "source": [
    "# 결과 출력\n",
    "# evaluate() returns the loss value & metrics values for the model\n",
    "print(\"\\n Accuracy : %.4f\" %(model.evaluate(X_test,Y_test, verbose=2))[1])"
   ]
  },
  {
   "cell_type": "code",
   "execution_count": 11,
   "metadata": {},
   "outputs": [
    {
     "data": {
      "text/plain": [
       "<tensorflow.python.keras.callbacks.History at 0x1e3bc7f78c8>"
      ]
     },
     "execution_count": 11,
     "metadata": {},
     "output_type": "execute_result"
    }
   ],
   "source": [
    "history"
   ]
  },
  {
   "cell_type": "code",
   "execution_count": 12,
   "metadata": {},
   "outputs": [
    {
     "data": {
      "text/plain": [
       "{'loss': [7.771213457981745,\n",
       "  2.481989695435368,\n",
       "  1.7385748141134778,\n",
       "  1.1291289145514989,\n",
       "  0.6603378668427468,\n",
       "  0.5663146052509547,\n",
       "  0.5570593213041624,\n",
       "  0.5188306769356131,\n",
       "  0.5398855380713939,\n",
       "  0.5006194479763508,\n",
       "  0.45249737103780113,\n",
       "  0.45755534221728644,\n",
       "  0.47330089571575323,\n",
       "  0.5095573388040066,\n",
       "  0.5462134754906098,\n",
       "  0.43530370195706686,\n",
       "  0.4441020576904217,\n",
       "  0.5187958924720685,\n",
       "  0.4388110786676407,\n",
       "  0.424403582016627],\n",
       " 'accuracy': [0.53333336,\n",
       "  0.84,\n",
       "  0.7866667,\n",
       "  0.7866667,\n",
       "  0.8066667,\n",
       "  0.83,\n",
       "  0.81333333,\n",
       "  0.83,\n",
       "  0.8233333,\n",
       "  0.8433333,\n",
       "  0.8566667,\n",
       "  0.8433333,\n",
       "  0.82,\n",
       "  0.82666665,\n",
       "  0.83,\n",
       "  0.8433333,\n",
       "  0.83,\n",
       "  0.82,\n",
       "  0.85333335,\n",
       "  0.8566667],\n",
       " 'val_loss': [2.817852684309161,\n",
       "  2.017426729962034,\n",
       "  1.4741404928070934,\n",
       "  0.93126439768821,\n",
       "  0.7671579894070563,\n",
       "  0.7330204738598121,\n",
       "  0.8036928309225723,\n",
       "  0.7144922755266491,\n",
       "  0.7428603697764246,\n",
       "  0.7269801823912483,\n",
       "  0.6744560297382506,\n",
       "  0.6814103063784147,\n",
       "  0.8162364188679739,\n",
       "  0.7303829354871261,\n",
       "  0.7367443684488535,\n",
       "  0.6531936404736418,\n",
       "  0.8023361703871112,\n",
       "  0.6302928510857256,\n",
       "  0.6447244992381648,\n",
       "  0.6285975179389903],\n",
       " 'val_accuracy': [0.81578946,\n",
       "  0.80263156,\n",
       "  0.7894737,\n",
       "  0.82894737,\n",
       "  0.82894737,\n",
       "  0.82894737,\n",
       "  0.82894737,\n",
       "  0.81578946,\n",
       "  0.7236842,\n",
       "  0.82894737,\n",
       "  0.82894737,\n",
       "  0.80263156,\n",
       "  0.82894737,\n",
       "  0.82894737,\n",
       "  0.82894737,\n",
       "  0.82894737,\n",
       "  0.82894737,\n",
       "  0.82894737,\n",
       "  0.82894737,\n",
       "  0.82894737]}"
      ]
     },
     "execution_count": 12,
     "metadata": {},
     "output_type": "execute_result"
    }
   ],
   "source": [
    "history.history"
   ]
  },
  {
   "cell_type": "code",
   "execution_count": 14,
   "metadata": {},
   "outputs": [
    {
     "data": {
      "text/html": [
       "<div>\n",
       "<style scoped>\n",
       "    .dataframe tbody tr th:only-of-type {\n",
       "        vertical-align: middle;\n",
       "    }\n",
       "\n",
       "    .dataframe tbody tr th {\n",
       "        vertical-align: top;\n",
       "    }\n",
       "\n",
       "    .dataframe thead th {\n",
       "        text-align: right;\n",
       "    }\n",
       "</style>\n",
       "<table border=\"1\" class=\"dataframe\">\n",
       "  <thead>\n",
       "    <tr style=\"text-align: right;\">\n",
       "      <th></th>\n",
       "      <th>loss</th>\n",
       "      <th>accuracy</th>\n",
       "      <th>val_loss</th>\n",
       "      <th>val_accuracy</th>\n",
       "    </tr>\n",
       "  </thead>\n",
       "  <tbody>\n",
       "    <tr>\n",
       "      <th>0</th>\n",
       "      <td>7.771213</td>\n",
       "      <td>0.533333</td>\n",
       "      <td>2.817853</td>\n",
       "      <td>0.815789</td>\n",
       "    </tr>\n",
       "    <tr>\n",
       "      <th>1</th>\n",
       "      <td>2.481990</td>\n",
       "      <td>0.840000</td>\n",
       "      <td>2.017427</td>\n",
       "      <td>0.802632</td>\n",
       "    </tr>\n",
       "    <tr>\n",
       "      <th>2</th>\n",
       "      <td>1.738575</td>\n",
       "      <td>0.786667</td>\n",
       "      <td>1.474140</td>\n",
       "      <td>0.789474</td>\n",
       "    </tr>\n",
       "    <tr>\n",
       "      <th>3</th>\n",
       "      <td>1.129129</td>\n",
       "      <td>0.786667</td>\n",
       "      <td>0.931264</td>\n",
       "      <td>0.828947</td>\n",
       "    </tr>\n",
       "    <tr>\n",
       "      <th>4</th>\n",
       "      <td>0.660338</td>\n",
       "      <td>0.806667</td>\n",
       "      <td>0.767158</td>\n",
       "      <td>0.828947</td>\n",
       "    </tr>\n",
       "  </tbody>\n",
       "</table>\n",
       "</div>"
      ],
      "text/plain": [
       "       loss  accuracy  val_loss  val_accuracy\n",
       "0  7.771213  0.533333  2.817853      0.815789\n",
       "1  2.481990  0.840000  2.017427      0.802632\n",
       "2  1.738575  0.786667  1.474140      0.789474\n",
       "3  1.129129  0.786667  0.931264      0.828947\n",
       "4  0.660338  0.806667  0.767158      0.828947"
      ]
     },
     "execution_count": 14,
     "metadata": {},
     "output_type": "execute_result"
    }
   ],
   "source": [
    "import pandas as pd\n",
    "df = pd.DataFrame(data = history.history)\n",
    "df.head()"
   ]
  },
  {
   "cell_type": "code",
   "execution_count": null,
   "metadata": {},
   "outputs": [],
   "source": []
  }
 ],
 "metadata": {
  "kernelspec": {
   "display_name": "Python 3",
   "language": "python",
   "name": "python3"
  },
  "language_info": {
   "codemirror_mode": {
    "name": "ipython",
    "version": 3
   },
   "file_extension": ".py",
   "mimetype": "text/x-python",
   "name": "python",
   "nbconvert_exporter": "python",
   "pygments_lexer": "ipython3",
   "version": "3.7.7"
  }
 },
 "nbformat": 4,
 "nbformat_minor": 4
}

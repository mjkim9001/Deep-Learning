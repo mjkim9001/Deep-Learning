{
 "cells": [
  {
   "cell_type": "code",
   "execution_count": 1,
   "metadata": {},
   "outputs": [],
   "source": [
    "import numpy as np\n",
    "from glob import glob\n",
    "import cv2, os, random\n",
    "import matplotlib.pyplot as plt\n",
    "%matplotlib inline"
   ]
  },
  {
   "cell_type": "code",
   "execution_count": 2,
   "metadata": {},
   "outputs": [],
   "source": [
    "import tensorflow as tf\n",
    "from tensorflow.keras.preprocessing import image\n",
    "from tensorflow.keras.models import Sequential\n",
    "from tensorflow.keras.layers import Conv2D, MaxPooling2D\n",
    "from tensorflow.keras.layers import Dense, Flatten, Dropout\n",
    "from tensorflow.keras.optimizers import Adam\n",
    "from tensorflow.keras.callbacks import ModelCheckpoint, EarlyStopping"
   ]
  },
  {
   "cell_type": "code",
   "execution_count": 3,
   "metadata": {},
   "outputs": [],
   "source": [
    "path = 'dogs-vs-cats/train'"
   ]
  },
  {
   "cell_type": "code",
   "execution_count": 4,
   "metadata": {},
   "outputs": [],
   "source": [
    "ROW, COL = 96, 96\n",
    "\n",
    "dogs, cats = [], []\n",
    "y_dogs, y_cats = [], []"
   ]
  },
  {
   "cell_type": "code",
   "execution_count": 5,
   "metadata": {},
   "outputs": [],
   "source": [
    "def load_dogs():\n",
    "    print('Loading all dog images\\n')\n",
    "    dog_path = os.path.join(path, 'dog*')\n",
    "    for dog_img in glob(dog_path):\n",
    "        dog = cv2.imread(dog_img)\n",
    "        dog = cv2.cvtColor(dog, cv2.COLOR_BGR2GRAY)\n",
    "        dog = cv2.resize(dog, (ROW, COL))\n",
    "        dog = image.img_to_array(dog)\n",
    "        dogs.append(dog)\n",
    "    print('All dog images loaded')"
   ]
  },
  {
   "cell_type": "code",
   "execution_count": 6,
   "metadata": {},
   "outputs": [],
   "source": [
    "def load_cats():\n",
    "    print('Loading all dog images\\n')\n",
    "    cat_path = os.path.join(path, 'cat*')\n",
    "    for cat_img in glob(cat_path):\n",
    "        cat = cv2.imread(cat_img)\n",
    "        cat = cv2.cvtColor(cat, cv2.COLOR_BGR2GRAY)\n",
    "        cat = cv2.resize(cat, (ROW, COL))\n",
    "        cat = image.img_to_array(cat)\n",
    "        cats.append(cat)\n",
    "    print('All cat images loaded')"
   ]
  },
  {
   "cell_type": "code",
   "execution_count": 7,
   "metadata": {},
   "outputs": [
    {
     "name": "stdout",
     "output_type": "stream",
     "text": [
      "Loading all dog images\n",
      "\n",
      "All dog images loaded\n"
     ]
    }
   ],
   "source": [
    "load_dogs()"
   ]
  },
  {
   "cell_type": "code",
   "execution_count": 8,
   "metadata": {},
   "outputs": [
    {
     "name": "stdout",
     "output_type": "stream",
     "text": [
      "Loading all dog images\n",
      "\n",
      "All cat images loaded\n"
     ]
    }
   ],
   "source": [
    "load_cats()"
   ]
  },
  {
   "cell_type": "code",
   "execution_count": 9,
   "metadata": {},
   "outputs": [],
   "source": [
    "classes = ['dog', 'cat']"
   ]
  },
  {
   "cell_type": "code",
   "execution_count": 10,
   "metadata": {},
   "outputs": [],
   "source": [
    "def show_dogs():\n",
    "    plt.figure(figsize=(12,8))\n",
    "    for i in range(5):\n",
    "        plt.subplot(1, 5, i+1)\n",
    "        img = image.array_to_imgay_to_img(random.choice(dogs))\n",
    "        plt.imshow(img)\n",
    "        \n",
    "        plt.axis('off')\n",
    "        plt.title('Supposed to be a {}'.format(classes[0]))\n",
    "    plt.show()"
   ]
  },
  {
   "cell_type": "code",
   "execution_count": 11,
   "metadata": {},
   "outputs": [],
   "source": [
    "def show_cats():\n",
    "    plt.figure(figsize=(12,8))\n",
    "    for i in range(5):\n",
    "        plt.subplot(1,5, i+1)\n",
    "        img = image.array_to_img(random.choice(cats))\n",
    "        plt.imshow(img)\n",
    "        \n",
    "        plt.axis('off')\n",
    "        plt.title('Supposed to be a {}'.format(classes[1]))\n",
    "    plt.show()"
   ]
  },
  {
   "cell_type": "code",
   "execution_count": 12,
   "metadata": {},
   "outputs": [],
   "source": [
    "seed = 2020\n",
    "np.random.seed(seed)\n",
    "tf.random.set_seed(seed)"
   ]
  },
  {
   "cell_type": "code",
   "execution_count": 13,
   "metadata": {},
   "outputs": [],
   "source": [
    "y_dogs = [1 for item in enumerate(dogs)]\n",
    "y_cats = [0 for item in enumerate(cats)]"
   ]
  },
  {
   "cell_type": "code",
   "execution_count": 14,
   "metadata": {},
   "outputs": [],
   "source": [
    "dogs = np.asarray(dogs).astype('float32')/255.0\n",
    "cats = np.asarray(cats).astype('float32')/255.0"
   ]
  },
  {
   "cell_type": "code",
   "execution_count": 15,
   "metadata": {},
   "outputs": [],
   "source": [
    "dog_train = dogs[:10000]"
   ]
  },
  {
   "cell_type": "code",
   "execution_count": 16,
   "metadata": {},
   "outputs": [],
   "source": [
    "cat_train = cats[:10000]"
   ]
  },
  {
   "cell_type": "code",
   "execution_count": 17,
   "metadata": {},
   "outputs": [],
   "source": [
    "dog_test = dogs[10000:12500]\n",
    "cat_test = cats[10000:12500]"
   ]
  },
  {
   "cell_type": "code",
   "execution_count": 18,
   "metadata": {},
   "outputs": [
    {
     "data": {
      "text/plain": [
       "(10000, 96, 96, 1)"
      ]
     },
     "execution_count": 18,
     "metadata": {},
     "output_type": "execute_result"
    }
   ],
   "source": [
    "dog_train.shape"
   ]
  },
  {
   "cell_type": "code",
   "execution_count": 19,
   "metadata": {
    "scrolled": true
   },
   "outputs": [],
   "source": [
    "#y_dogs = np.asarray(y_dogs[:10000]).astype('int32')\n",
    "#y_cats = np.asarray(y_cats[:10000]).astype('int32')"
   ]
  },
  {
   "cell_type": "code",
   "execution_count": 20,
   "metadata": {},
   "outputs": [],
   "source": [
    "y_dogs = np.asarray(y_dogs).astype('int32')\n",
    "y_cats = np.asarray(y_cats).astype('int32')"
   ]
  },
  {
   "cell_type": "code",
   "execution_count": 21,
   "metadata": {},
   "outputs": [],
   "source": [
    "#X_train = np.concatenate((dog_train, cat_train), axis=0)\n",
    "#X_test =  np.concatenate((dog_test, cat_test), axis=0)"
   ]
  },
  {
   "cell_type": "code",
   "execution_count": 22,
   "metadata": {},
   "outputs": [],
   "source": [
    "X_train = np.concatenate((dogs, cats), axis=0)\n",
    "X_test =  np.concatenate((dogs, cats), axis=0)"
   ]
  },
  {
   "cell_type": "code",
   "execution_count": 23,
   "metadata": {},
   "outputs": [],
   "source": [
    "y_train = np.concatenate((y_dogs, y_cats), axis=0)\n",
    "y_test =  np.concatenate((y_dogs, y_cats), axis=0)"
   ]
  },
  {
   "cell_type": "code",
   "execution_count": 24,
   "metadata": {},
   "outputs": [
    {
     "data": {
      "text/plain": [
       "((25000,), (25000,))"
      ]
     },
     "execution_count": 24,
     "metadata": {},
     "output_type": "execute_result"
    }
   ],
   "source": [
    "y_train.shape, y_test.shape"
   ]
  },
  {
   "cell_type": "code",
   "execution_count": 25,
   "metadata": {},
   "outputs": [],
   "source": [
    "y_train = tf.keras.utils.to_categorical(y_train, 2)\n",
    "y_test = tf.keras.utils.to_categorical(y_test, 2)"
   ]
  },
  {
   "cell_type": "code",
   "execution_count": 26,
   "metadata": {},
   "outputs": [
    {
     "name": "stdout",
     "output_type": "stream",
     "text": [
      "Model: \"sequential\"\n",
      "_________________________________________________________________\n",
      "Layer (type)                 Output Shape              Param #   \n",
      "=================================================================\n",
      "conv2d (Conv2D)              (None, 96, 96, 32)        320       \n",
      "_________________________________________________________________\n",
      "conv2d_1 (Conv2D)            (None, 96, 96, 32)        9248      \n",
      "_________________________________________________________________\n",
      "max_pooling2d (MaxPooling2D) (None, 48, 48, 32)        0         \n",
      "_________________________________________________________________\n",
      "dropout (Dropout)            (None, 48, 48, 32)        0         \n",
      "_________________________________________________________________\n",
      "conv2d_2 (Conv2D)            (None, 48, 48, 64)        18496     \n",
      "_________________________________________________________________\n",
      "conv2d_3 (Conv2D)            (None, 48, 48, 64)        36928     \n",
      "_________________________________________________________________\n",
      "max_pooling2d_1 (MaxPooling2 (None, 24, 24, 64)        0         \n",
      "_________________________________________________________________\n",
      "dropout_1 (Dropout)          (None, 24, 24, 64)        0         \n",
      "_________________________________________________________________\n",
      "flatten (Flatten)            (None, 36864)             0         \n",
      "_________________________________________________________________\n",
      "dense (Dense)                (None, 512)               18874880  \n",
      "_________________________________________________________________\n",
      "dropout_2 (Dropout)          (None, 512)               0         \n",
      "_________________________________________________________________\n",
      "dense_1 (Dense)              (None, 2)                 1026      \n",
      "=================================================================\n",
      "Total params: 18,940,898\n",
      "Trainable params: 18,940,898\n",
      "Non-trainable params: 0\n",
      "_________________________________________________________________\n"
     ]
    }
   ],
   "source": [
    "model = Sequential([\n",
    "    Conv2D(32, (3,3), padding='same', input_shape=(ROW, COL, 1), activation='relu'), #padding 사이즈 똑같이\n",
    "    Conv2D(32, (3,3), padding='same', activation='relu'),\n",
    "    MaxPooling2D(pool_size=(2,2)),\n",
    "    Dropout(.25),\n",
    "    Conv2D(64, (3,3), padding='same', activation='relu'),\n",
    "    Conv2D(64, (3,3), padding='same', activation='relu'),\n",
    "    MaxPooling2D(pool_size=(2,2)), # 사이즈가 반으로 줄어듦(48x48)\n",
    "    Dropout(.25),\n",
    "    Flatten(),\n",
    "    Dense(512, activation='relu'),\n",
    "    Dropout(.5),\n",
    "    Dense(2, activation='softmax')\n",
    "])\n",
    "model.summary()"
   ]
  },
  {
   "cell_type": "code",
   "execution_count": 27,
   "metadata": {},
   "outputs": [],
   "source": [
    "model.compile(loss='categorical_crossentropy', optimizer =Adam(), metrics = ['accuracy'])"
   ]
  },
  {
   "cell_type": "code",
   "execution_count": 28,
   "metadata": {},
   "outputs": [],
   "source": [
    "modelpath = 'model/dogs_vs_cats_full-cnn-{epoch:02d}-{val_loss:.4f}.hdf5'\n",
    "checkpointer = ModelCheckpoint(filepath = modelpath, monitor='val_loss', verbose=1, save_best_only=True)\n",
    "early_stopping_callback = EarlyStopping(monitor='val_loss', patience=10)"
   ]
  },
  {
   "cell_type": "code",
   "execution_count": 29,
   "metadata": {},
   "outputs": [
    {
     "name": "stdout",
     "output_type": "stream",
     "text": [
      "Train on 20000 samples, validate on 5000 samples\n",
      "Epoch 1/40\n",
      "19968/20000 [============================>.] - ETA: 0s - loss: 0.6562 - accuracy: 0.6261\n",
      "Epoch 00001: val_loss improved from inf to 0.70425, saving model to model/dogs_vs_cats_full-cnn-01-0.7043.hdf5\n",
      "20000/20000 [==============================] - 311s 16ms/sample - loss: 0.6561 - accuracy: 0.6262 - val_loss: 0.7043 - val_accuracy: 0.4854\n",
      "Epoch 2/40\n",
      "19968/20000 [============================>.] - ETA: 0s - loss: 0.5882 - accuracy: 0.6850\n",
      "Epoch 00002: val_loss did not improve from 0.70425\n",
      "20000/20000 [==============================] - 310s 15ms/sample - loss: 0.5880 - accuracy: 0.6852 - val_loss: 0.7477 - val_accuracy: 0.5758\n",
      "Epoch 3/40\n",
      "19968/20000 [============================>.] - ETA: 0s - loss: 0.4834 - accuracy: 0.7698\n",
      "Epoch 00003: val_loss did not improve from 0.70425\n",
      "20000/20000 [==============================] - 311s 16ms/sample - loss: 0.4833 - accuracy: 0.7699 - val_loss: 0.9158 - val_accuracy: 0.5074\n",
      "Epoch 4/40\n",
      "19968/20000 [============================>.] - ETA: 0s - loss: 0.4197 - accuracy: 0.8081\n",
      "Epoch 00004: val_loss did not improve from 0.70425\n",
      "20000/20000 [==============================] - 310s 15ms/sample - loss: 0.4196 - accuracy: 0.8081 - val_loss: 0.7562 - val_accuracy: 0.6216\n",
      "Epoch 5/40\n",
      "19968/20000 [============================>.] - ETA: 0s - loss: 0.3733 - accuracy: 0.8334\n",
      "Epoch 00005: val_loss improved from 0.70425 to 0.46327, saving model to model/dogs_vs_cats_full-cnn-05-0.4633.hdf5\n",
      "20000/20000 [==============================] - 311s 16ms/sample - loss: 0.3732 - accuracy: 0.8334 - val_loss: 0.4633 - val_accuracy: 0.7836\n",
      "Epoch 6/40\n",
      "19968/20000 [============================>.] - ETA: 0s - loss: 0.3230 - accuracy: 0.8582\n",
      "Epoch 00006: val_loss did not improve from 0.46327\n",
      "20000/20000 [==============================] - 309s 15ms/sample - loss: 0.3230 - accuracy: 0.8582 - val_loss: 0.7721 - val_accuracy: 0.6496\n",
      "Epoch 7/40\n",
      "19968/20000 [============================>.] - ETA: 0s - loss: 0.2790 - accuracy: 0.8793\n",
      "Epoch 00007: val_loss did not improve from 0.46327\n",
      "20000/20000 [==============================] - 309s 15ms/sample - loss: 0.2790 - accuracy: 0.8792 - val_loss: 0.6805 - val_accuracy: 0.6848\n",
      "Epoch 8/40\n",
      "19968/20000 [============================>.] - ETA: 0s - loss: 0.2348 - accuracy: 0.9047\n",
      "Epoch 00008: val_loss did not improve from 0.46327\n",
      "20000/20000 [==============================] - 309s 15ms/sample - loss: 0.2347 - accuracy: 0.9047 - val_loss: 0.6155 - val_accuracy: 0.7494\n",
      "Epoch 9/40\n",
      "19968/20000 [============================>.] - ETA: 0s - loss: 0.1996 - accuracy: 0.9189\n",
      "Epoch 00009: val_loss did not improve from 0.46327\n",
      "20000/20000 [==============================] - 309s 15ms/sample - loss: 0.1997 - accuracy: 0.9189 - val_loss: 0.6027 - val_accuracy: 0.7808\n",
      "Epoch 10/40\n",
      "19968/20000 [============================>.] - ETA: 35s - loss: 0.1754 - accuracy: 0.9311 \n",
      "Epoch 00010: val_loss did not improve from 0.46327\n",
      "20000/20000 [==============================] - 22312s 1s/sample - loss: 0.1753 - accuracy: 0.9312 - val_loss: 0.5661 - val_accuracy: 0.7600\n",
      "Epoch 11/40\n",
      "19968/20000 [============================>.] - ETA: 0s - loss: 0.1460 - accuracy: 0.9416\n",
      "Epoch 00011: val_loss did not improve from 0.46327\n",
      "20000/20000 [==============================] - 310s 15ms/sample - loss: 0.1460 - accuracy: 0.9416 - val_loss: 0.7290 - val_accuracy: 0.7630\n",
      "Epoch 12/40\n",
      "19968/20000 [============================>.] - ETA: 0s - loss: 0.1272 - accuracy: 0.9506\n",
      "Epoch 00012: val_loss did not improve from 0.46327\n",
      "20000/20000 [==============================] - 309s 15ms/sample - loss: 0.1272 - accuracy: 0.9506 - val_loss: 0.7725 - val_accuracy: 0.7362\n",
      "Epoch 13/40\n",
      "19968/20000 [============================>.] - ETA: 0s - loss: 0.1196 - accuracy: 0.9546\n",
      "Epoch 00013: val_loss did not improve from 0.46327\n",
      "20000/20000 [==============================] - 309s 15ms/sample - loss: 0.1196 - accuracy: 0.9546 - val_loss: 1.3042 - val_accuracy: 0.6800\n",
      "Epoch 14/40\n",
      "19968/20000 [============================>.] - ETA: 0s - loss: 0.1027 - accuracy: 0.9624\n",
      "Epoch 00014: val_loss did not improve from 0.46327\n",
      "20000/20000 [==============================] - 309s 15ms/sample - loss: 0.1027 - accuracy: 0.9624 - val_loss: 0.8795 - val_accuracy: 0.7420\n",
      "Epoch 15/40\n",
      "19968/20000 [============================>.] - ETA: 0s - loss: 0.1023 - accuracy: 0.9629\n",
      "Epoch 00015: val_loss did not improve from 0.46327\n",
      "20000/20000 [==============================] - 309s 15ms/sample - loss: 0.1023 - accuracy: 0.9628 - val_loss: 0.7912 - val_accuracy: 0.7668\n"
     ]
    },
    {
     "data": {
      "text/plain": [
       "<tensorflow.python.keras.callbacks.History at 0x17847e74488>"
      ]
     },
     "execution_count": 29,
     "metadata": {},
     "output_type": "execute_result"
    }
   ],
   "source": [
    "model.fit(X_train, y_train, batch_size=32, epochs =40, validation_split=0.2, callbacks=[checkpointer, early_stopping_callback])"
   ]
  },
  {
   "cell_type": "code",
   "execution_count": 30,
   "metadata": {},
   "outputs": [],
   "source": [
    "from tensorflow.keras.models import load_model\n",
    "del model"
   ]
  },
  {
   "cell_type": "code",
   "execution_count": 33,
   "metadata": {},
   "outputs": [],
   "source": [
    "model = load_model('model/dogs_vs_cats_full-cnn-05-0.4633.hdf5')"
   ]
  },
  {
   "cell_type": "code",
   "execution_count": 34,
   "metadata": {},
   "outputs": [
    {
     "name": "stdout",
     "output_type": "stream",
     "text": [
      "25000/25000 - 57s - loss: 0.3267 - accuracy: 0.8590\n",
      "MODEL ACCURACY: 0.85900\n"
     ]
    }
   ],
   "source": [
    "scores = model.evaluate(X_test, y_test, verbose=2)\n",
    "print('MODEL ACCURACY: %.5f' % scores[1])"
   ]
  },
  {
   "cell_type": "code",
   "execution_count": null,
   "metadata": {},
   "outputs": [],
   "source": []
  }
 ],
 "metadata": {
  "kernelspec": {
   "display_name": "Python 3",
   "language": "python",
   "name": "python3"
  },
  "language_info": {
   "codemirror_mode": {
    "name": "ipython",
    "version": 3
   },
   "file_extension": ".py",
   "mimetype": "text/x-python",
   "name": "python",
   "nbconvert_exporter": "python",
   "pygments_lexer": "ipython3",
   "version": "3.7.7"
  }
 },
 "nbformat": 4,
 "nbformat_minor": 4
}

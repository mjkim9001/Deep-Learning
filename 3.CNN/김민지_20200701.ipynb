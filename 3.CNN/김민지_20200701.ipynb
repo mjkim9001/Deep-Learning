{
 "cells": [
  {
   "cell_type": "markdown",
   "metadata": {},
   "source": [
    "# 1. MNIST_DNN"
   ]
  },
  {
   "cell_type": "markdown",
   "metadata": {},
   "source": [
    "## DNN_Best Model은 Epoch 15, 정확도는 98.55%"
   ]
  },
  {
   "cell_type": "code",
   "execution_count": 3,
   "metadata": {},
   "outputs": [],
   "source": [
    "import tensorflow as tf\n",
    "from tensorflow.keras.datasets import mnist"
   ]
  },
  {
   "cell_type": "code",
   "execution_count": 2,
   "metadata": {},
   "outputs": [],
   "source": [
    "(X_train, Y_class_train), (X_test, Y_class_test) = mnist.load_data()"
   ]
  },
  {
   "cell_type": "code",
   "execution_count": 3,
   "metadata": {},
   "outputs": [
    {
     "data": {
      "text/plain": [
       "((60000, 28, 28), (10000, 28, 28))"
      ]
     },
     "execution_count": 3,
     "metadata": {},
     "output_type": "execute_result"
    }
   ],
   "source": [
    "X_train.shape, X_test.shape"
   ]
  },
  {
   "cell_type": "code",
   "execution_count": 4,
   "metadata": {},
   "outputs": [
    {
     "data": {
      "image/png": "[encoded data removed]",
      "text/plain": [
       "<Figure size 432x288 with 1 Axes>"
      ]
     },
     "metadata": {
      "needs_background": "light"
     },
     "output_type": "display_data"
    }
   ],
   "source": [
    "import matplotlib.pyplot as plt\n",
    "%matplotlib inline\n",
    "plt.imshow(X_train[0], cmap='Greys')\n",
    "plt.show()"
   ]
  },
  {
   "cell_type": "code",
   "execution_count": 5,
   "metadata": {},
   "outputs": [
    {
     "name": "stdout",
     "output_type": "stream",
     "text": [
      "  0  0  0  0  0  0  0  0  0  0  0  0  0  0  0  0  0  0  0  0  0  0  0  0  0  0  0  0\n",
      "  0  0  0  0  0  0  0  0  0  0  0  0  0  0  0  0  0  0  0  0  0  0  0  0  0  0  0  0\n",
      "  0  0  0  0  0  0  0  0  0  0  0  0  0  0  0  0  0  0  0  0  0  0  0  0  0  0  0  0\n",
      "  0  0  0  0  0  0  0  0  0  0  0  0  0  0  0  0  0  0  0  0  0  0  0  0  0  0  0  0\n",
      "  0  0  0  0  0  0  0  0  0  0  0  0  0  0  0  0  0  0  0  0  0  0  0  0  0  0  0  0\n",
      "  0  0  0  0  0  0  0  0  0  0  0  0  3 18 18 18126136175 26166255247127  0  0  0  0\n",
      "  0  0  0  0  0  0  0  0 30 36 94154170253253253253253225172253242195 64  0  0  0  0\n",
      "  0  0  0  0  0  0  0 49238253253253253253253253253251 93 82 82 56 39  0  0  0  0  0\n",
      "  0  0  0  0  0  0  0 18219253253253253253198182247241  0  0  0  0  0  0  0  0  0  0\n",
      "  0  0  0  0  0  0  0  0 80156107253253205 11  0 43154  0  0  0  0  0  0  0  0  0  0\n",
      "  0  0  0  0  0  0  0  0  0 14  1154253 90  0  0  0  0  0  0  0  0  0  0  0  0  0  0\n",
      "  0  0  0  0  0  0  0  0  0  0  0139253190  2  0  0  0  0  0  0  0  0  0  0  0  0  0\n",
      "  0  0  0  0  0  0  0  0  0  0  0 11190253 70  0  0  0  0  0  0  0  0  0  0  0  0  0\n",
      "  0  0  0  0  0  0  0  0  0  0  0  0 35241225160108  1  0  0  0  0  0  0  0  0  0  0\n",
      "  0  0  0  0  0  0  0  0  0  0  0  0  0 81240253253119 25  0  0  0  0  0  0  0  0  0\n",
      "  0  0  0  0  0  0  0  0  0  0  0  0  0  0 45186253253150 27  0  0  0  0  0  0  0  0\n",
      "  0  0  0  0  0  0  0  0  0  0  0  0  0  0  0 16 93252253187  0  0  0  0  0  0  0  0\n",
      "  0  0  0  0  0  0  0  0  0  0  0  0  0  0  0  0  0249253249 64  0  0  0  0  0  0  0\n",
      "  0  0  0  0  0  0  0  0  0  0  0  0  0  0 46130183253253207  2  0  0  0  0  0  0  0\n",
      "  0  0  0  0  0  0  0  0  0  0  0  0 39148229253253253250182  0  0  0  0  0  0  0  0\n",
      "  0  0  0  0  0  0  0  0  0  0 24114221253253253253201 78  0  0  0  0  0  0  0  0  0\n",
      "  0  0  0  0  0  0  0  0 23 66213253253253253198 81  2  0  0  0  0  0  0  0  0  0  0\n",
      "  0  0  0  0  0  0 18171219253253253253195 80  9  0  0  0  0  0  0  0  0  0  0  0  0\n",
      "  0  0  0  0 55172226253253253253244133 11  0  0  0  0  0  0  0  0  0  0  0  0  0  0\n",
      "  0  0  0  0136253253253212135132 16  0  0  0  0  0  0  0  0  0  0  0  0  0  0  0  0\n",
      "  0  0  0  0  0  0  0  0  0  0  0  0  0  0  0  0  0  0  0  0  0  0  0  0  0  0  0  0\n",
      "  0  0  0  0  0  0  0  0  0  0  0  0  0  0  0  0  0  0  0  0  0  0  0  0  0  0  0  0\n",
      "  0  0  0  0  0  0  0  0  0  0  0  0  0  0  0  0  0  0  0  0  0  0  0  0  0  0  0  0\n"
     ]
    }
   ],
   "source": [
    "import sys\n",
    "for x in X_train[0]:\n",
    "    for i in x:\n",
    "        sys.stdout.write('%3d' %i)\n",
    "    sys.stdout.write('\\n')"
   ]
  },
  {
   "cell_type": "code",
   "execution_count": 6,
   "metadata": {},
   "outputs": [],
   "source": [
    "# 정규화 과정\n",
    "X_train = X_train.reshape(X_train.shape[0], 784)\n",
    "#X_train = X_train.astype('float65')\n",
    "X_train = X_train / 255.0"
   ]
  },
  {
   "cell_type": "code",
   "execution_count": 7,
   "metadata": {},
   "outputs": [
    {
     "data": {
      "text/plain": [
       "(60000, 784)"
      ]
     },
     "execution_count": 7,
     "metadata": {},
     "output_type": "execute_result"
    }
   ],
   "source": [
    "X_train.shape"
   ]
  },
  {
   "cell_type": "code",
   "execution_count": 8,
   "metadata": {},
   "outputs": [],
   "source": [
    "X_test = X_test.reshape(X_test.shape[0], 784).astype('float64') / 255"
   ]
  },
  {
   "cell_type": "code",
   "execution_count": 9,
   "metadata": {},
   "outputs": [
    {
     "data": {
      "text/plain": [
       "5"
      ]
     },
     "execution_count": 9,
     "metadata": {},
     "output_type": "execute_result"
    }
   ],
   "source": [
    "Y_class_train[0]"
   ]
  },
  {
   "cell_type": "code",
   "execution_count": 10,
   "metadata": {},
   "outputs": [],
   "source": [
    "from tensorflow.keras.utils import to_categorical\n",
    "Y_train = to_categorical(Y_class_train, 10)\n",
    "Y_test = to_categorical(Y_class_test, 10)"
   ]
  },
  {
   "cell_type": "code",
   "execution_count": 11,
   "metadata": {},
   "outputs": [
    {
     "data": {
      "text/plain": [
       "array([0., 0., 0., 0., 0., 1., 0., 0., 0., 0.], dtype=float32)"
      ]
     },
     "execution_count": 11,
     "metadata": {},
     "output_type": "execute_result"
    }
   ],
   "source": [
    "Y_train[0]"
   ]
  },
  {
   "cell_type": "code",
   "execution_count": 12,
   "metadata": {},
   "outputs": [],
   "source": [
    "from tensorflow.keras.models import Sequential\n",
    "from tensorflow.keras.layers import Dense\n",
    "from tensorflow.keras.callbacks import ModelCheckpoint,EarlyStopping\n",
    "import numpy as np\n",
    "import os"
   ]
  },
  {
   "cell_type": "code",
   "execution_count": 13,
   "metadata": {},
   "outputs": [],
   "source": [
    "seed=2020\n",
    "np.random.seed(seed)"
   ]
  },
  {
   "cell_type": "code",
   "execution_count": 14,
   "metadata": {},
   "outputs": [],
   "source": [
    "model = Sequential([\n",
    "    Dense(512, input_dim=784, activation='relu'),\n",
    "    Dense(350, activation='relu'),\n",
    "    Dense(250, activation='relu'),\n",
    "    Dense(100, activation='relu'),\n",
    "    Dense(10, activation='softmax')\n",
    "])"
   ]
  },
  {
   "cell_type": "code",
   "execution_count": 15,
   "metadata": {},
   "outputs": [
    {
     "name": "stdout",
     "output_type": "stream",
     "text": [
      "Model: \"sequential\"\n",
      "_________________________________________________________________\n",
      "Layer (type)                 Output Shape              Param #   \n",
      "=================================================================\n",
      "dense (Dense)                (None, 512)               401920    \n",
      "_________________________________________________________________\n",
      "dense_1 (Dense)              (None, 350)               179550    \n",
      "_________________________________________________________________\n",
      "dense_2 (Dense)              (None, 250)               87750     \n",
      "_________________________________________________________________\n",
      "dense_3 (Dense)              (None, 100)               25100     \n",
      "_________________________________________________________________\n",
      "dense_4 (Dense)              (None, 10)                1010      \n",
      "=================================================================\n",
      "Total params: 695,330\n",
      "Trainable params: 695,330\n",
      "Non-trainable params: 0\n",
      "_________________________________________________________________\n"
     ]
    }
   ],
   "source": [
    "model.summary()"
   ]
  },
  {
   "cell_type": "code",
   "execution_count": 16,
   "metadata": {},
   "outputs": [],
   "source": [
    "model.compile(loss = 'categorical_crossentropy',\n",
    "             optimizer = 'adam',\n",
    "             metrics = ['accuracy'])"
   ]
  },
  {
   "cell_type": "code",
   "execution_count": 17,
   "metadata": {},
   "outputs": [],
   "source": [
    "MODEL_DIR = './model/'\n",
    "if not os.path.exists(MODEL_DIR):\n",
    "    os.mkdir(MODEL_DIR)"
   ]
  },
  {
   "cell_type": "code",
   "execution_count": 18,
   "metadata": {},
   "outputs": [],
   "source": [
    "modelpath = MODEL_DIR +'mnist{epoch:02d}-{val_loss:.4f}.hdf5'\n",
    "checkpointer = ModelCheckpoint(filepath = modelpath, monitor='val_loss', verbose=1, save_best_only=True)\n",
    "early_stopping_callback = EarlyStopping(monitor='val_loss', patience =10)"
   ]
  },
  {
   "cell_type": "code",
   "execution_count": 19,
   "metadata": {},
   "outputs": [
    {
     "name": "stdout",
     "output_type": "stream",
     "text": [
      "\n",
      "Epoch 00001: val_loss improved from inf to 0.12372, saving model to ./model/mnist01-0.1237.hdf5\n",
      "\n",
      "Epoch 00002: val_loss improved from 0.12372 to 0.09474, saving model to ./model/mnist02-0.0947.hdf5\n",
      "\n",
      "Epoch 00003: val_loss improved from 0.09474 to 0.07740, saving model to ./model/mnist03-0.0774.hdf5\n",
      "\n",
      "Epoch 00004: val_loss did not improve from 0.07740\n",
      "\n",
      "Epoch 00005: val_loss did not improve from 0.07740\n",
      "\n",
      "Epoch 00006: val_loss did not improve from 0.07740\n",
      "\n",
      "Epoch 00007: val_loss improved from 0.07740 to 0.06776, saving model to ./model/mnist07-0.0678.hdf5\n",
      "\n",
      "Epoch 00008: val_loss did not improve from 0.06776\n",
      "\n",
      "Epoch 00009: val_loss did not improve from 0.06776\n",
      "\n",
      "Epoch 00010: val_loss did not improve from 0.06776\n",
      "\n",
      "Epoch 00011: val_loss did not improve from 0.06776\n",
      "\n",
      "Epoch 00012: val_loss did not improve from 0.06776\n",
      "\n",
      "Epoch 00013: val_loss did not improve from 0.06776\n",
      "\n",
      "Epoch 00014: val_loss did not improve from 0.06776\n",
      "\n",
      "Epoch 00015: val_loss improved from 0.06776 to 0.06657, saving model to ./model/mnist15-0.0666.hdf5\n",
      "\n",
      "Epoch 00016: val_loss did not improve from 0.06657\n",
      "\n",
      "Epoch 00017: val_loss did not improve from 0.06657\n",
      "\n",
      "Epoch 00018: val_loss did not improve from 0.06657\n",
      "\n",
      "Epoch 00019: val_loss did not improve from 0.06657\n",
      "\n",
      "Epoch 00020: val_loss did not improve from 0.06657\n",
      "\n",
      "Epoch 00021: val_loss did not improve from 0.06657\n",
      "\n",
      "Epoch 00022: val_loss did not improve from 0.06657\n",
      "\n",
      "Epoch 00023: val_loss did not improve from 0.06657\n",
      "\n",
      "Epoch 00024: val_loss did not improve from 0.06657\n",
      "\n",
      "Epoch 00025: val_loss did not improve from 0.06657\n"
     ]
    }
   ],
   "source": [
    "history = model.fit(X_train, Y_train, validation_data=(X_test, Y_test), epochs=3000, batch_size=200, verbose=0, callbacks = [early_stopping_callback, checkpointer])"
   ]
  },
  {
   "cell_type": "code",
   "execution_count": 24,
   "metadata": {},
   "outputs": [],
   "source": [
    "from tensorflow.keras.models import load_model\n",
    "del model\n",
    "model = load_model('model/mnist15-0.0666.hdf5')"
   ]
  },
  {
   "cell_type": "code",
   "execution_count": 25,
   "metadata": {},
   "outputs": [
    {
     "name": "stdout",
     "output_type": "stream",
     "text": [
      "10000/10000 - 0s - loss: 0.0666 - accuracy: 0.9855\n",
      "\n",
      " Test Accuracy: 0.9855\n"
     ]
    }
   ],
   "source": [
    "print('\\n Test Accuracy: %.4f' %(model.evaluate(X_test, Y_test, verbose=2)[1])) "
   ]
  },
  {
   "cell_type": "code",
   "execution_count": 26,
   "metadata": {},
   "outputs": [],
   "source": [
    "\n",
    "y_vloss = history.history['val_loss']\n",
    "y_loss = history.history['loss']"
   ]
  },
  {
   "cell_type": "code",
   "execution_count": 27,
   "metadata": {},
   "outputs": [
    {
     "data": {
      "image/png": "[encoded data removed]",
      "text/plain": [
       "<Figure size 576x432 with 1 Axes>"
      ]
     },
     "metadata": {
      "needs_background": "light"
     },
     "output_type": "display_data"
    }
   ],
   "source": [
    "x_len = np.arange(1, len(y_loss)+1)\n",
    "plt.figure(figsize = (8,6))\n",
    "plt.plot(x_len, y_vloss, marker='.', c='red', label = 'Testset_loss')\n",
    "plt.plot(x_len, y_loss, marker='.', c='blue', label = 'Trainset_loss')\n",
    "\n",
    "plt.legend(loc='upper right')\n",
    "\n",
    "plt.grid()\n",
    "plt.xlabel('epoch')\n",
    "plt.ylabel('loss')\n",
    "plt.show()"
   ]
  },
  {
   "cell_type": "markdown",
   "metadata": {},
   "source": [
    "# 2. MNIST_CNN"
   ]
  },
  {
   "cell_type": "markdown",
   "metadata": {},
   "source": [
    "## CNN_Best Model은 Epoch 15, 정확도는 99.32%"
   ]
  },
  {
   "cell_type": "code",
   "execution_count": 4,
   "metadata": {},
   "outputs": [],
   "source": [
    "from tensorflow.keras.datasets import mnist\n",
    "from tensorflow.keras.models import Sequential\n",
    "from tensorflow.keras.layers import Dense, Dropout, Flatten, Conv2D, MaxPooling2D\n",
    "from tensorflow.keras.callbacks import ModelCheckpoint, EarlyStopping\n",
    "\n",
    "import os"
   ]
  },
  {
   "cell_type": "code",
   "execution_count": 5,
   "metadata": {},
   "outputs": [],
   "source": [
    "# 데이터 불러오기\n",
    "(X_train, Y_train), (X_test, Y_test) = mnist.load_data()\n",
    "X_train = X_train.reshape(-1, 28, 28, 1).astype('float32') / 255\n",
    "X_test = X_test.reshape(-1, 28, 28, 1).astype('float32') / 255\n",
    "#X_test.shape[0] = -1\n",
    "Y_train = tf.keras.utils.to_categorical(Y_train)\n",
    "Y_test = tf.keras.utils.to_categorical(Y_test)"
   ]
  },
  {
   "cell_type": "code",
   "execution_count": 29,
   "metadata": {},
   "outputs": [
    {
     "name": "stdout",
     "output_type": "stream",
     "text": [
      "Model: \"sequential_2\"\n",
      "_________________________________________________________________\n",
      "Layer (type)                 Output Shape              Param #   \n",
      "=================================================================\n",
      "conv2d_4 (Conv2D)            (None, 26, 26, 32)        320       \n",
      "_________________________________________________________________\n",
      "conv2d_5 (Conv2D)            (None, 24, 24, 64)        18496     \n",
      "_________________________________________________________________\n",
      "max_pooling2d_2 (MaxPooling2 (None, 12, 12, 64)        0         \n",
      "_________________________________________________________________\n",
      "dropout_4 (Dropout)          (None, 12, 12, 64)        0         \n",
      "_________________________________________________________________\n",
      "flatten_2 (Flatten)          (None, 9216)              0         \n",
      "_________________________________________________________________\n",
      "dense_7 (Dense)              (None, 128)               1179776   \n",
      "_________________________________________________________________\n",
      "dropout_5 (Dropout)          (None, 128)               0         \n",
      "_________________________________________________________________\n",
      "dense_8 (Dense)              (None, 64)                8256      \n",
      "_________________________________________________________________\n",
      "dense_9 (Dense)              (None, 10)                650       \n",
      "=================================================================\n",
      "Total params: 1,207,498\n",
      "Trainable params: 1,207,498\n",
      "Non-trainable params: 0\n",
      "_________________________________________________________________\n"
     ]
    }
   ],
   "source": [
    "# 컨볼루션 신경망 설정\n",
    "model = Sequential([\n",
    "    Conv2D(32, kernel_size=(3, 3), input_shape=(28,28,1), activation = 'relu'), #컨볼루션 층 생성\n",
    "    Conv2D(64, (3, 3), activation='relu'), #컨볼루션 층 추가\n",
    "    MaxPooling2D(pool_size=2), #컨볼루션 결과 축소\n",
    "    Dropout(0.25), #25% 노드를 끄는 것\n",
    "    Flatten(), #일차원으로 바꿔주는 레이어\n",
    "    Dense(128, activation='relu'), \n",
    "    Dropout(0.5), #50% 노드를 끄는 것\n",
    "    Dense(64, activation='relu'),\n",
    "    Dense(10, activation='softmax')\n",
    "])\n",
    "model.summary()"
   ]
  },
  {
   "cell_type": "code",
   "execution_count": 30,
   "metadata": {},
   "outputs": [],
   "source": [
    "model.compile(loss='categorical_crossentropy',\n",
    "             optimizer='adam',\n",
    "             metrics = ['accuracy'])"
   ]
  },
  {
   "cell_type": "code",
   "execution_count": 31,
   "metadata": {},
   "outputs": [],
   "source": [
    "# 모델 최적화 설정\n",
    "MODEL_DIR = './model/'\n",
    "if not os.path.exists(MODEL_DIR):\n",
    "    os.mkdir(MODEL_DIR)"
   ]
  },
  {
   "cell_type": "code",
   "execution_count": 32,
   "metadata": {},
   "outputs": [],
   "source": [
    "modelpath = MODEL_DIR + 'minst-cnn-{epoch:02d}-{val_loss:.4f}.hdf5'\n",
    "checkpointer = ModelCheckpoint(filepath=modelpath, monitor='val_loss',\n",
    "                              verbose=1, save_best_only=True)\n",
    "early_stopping_callbak = EarlyStopping(monitor='val_loss', patience=10)"
   ]
  },
  {
   "cell_type": "code",
   "execution_count": 33,
   "metadata": {},
   "outputs": [
    {
     "name": "stdout",
     "output_type": "stream",
     "text": [
      "Train on 60000 samples, validate on 10000 samples\n",
      "Epoch 1/50\n",
      "59800/60000 [============================>.] - ETA: 0s - loss: 0.2985 - accuracy: 0.9065\n",
      "Epoch 00001: val_loss improved from inf to 0.06270, saving model to ./model/minst-cnn-01-0.0627.hdf5\n",
      "60000/60000 [==============================] - 44s 737us/sample - loss: 0.2981 - accuracy: 0.9066 - val_loss: 0.0627 - val_accuracy: 0.9797\n",
      "Epoch 2/50\n",
      "59800/60000 [============================>.] - ETA: 0s - loss: 0.0934 - accuracy: 0.9721\n",
      "Epoch 00002: val_loss improved from 0.06270 to 0.04445, saving model to ./model/minst-cnn-02-0.0444.hdf5\n",
      "60000/60000 [==============================] - 44s 740us/sample - loss: 0.0933 - accuracy: 0.9721 - val_loss: 0.0444 - val_accuracy: 0.9855\n",
      "Epoch 3/50\n",
      "59800/60000 [============================>.] - ETA: 0s - loss: 0.0708 - accuracy: 0.9793\n",
      "Epoch 00003: val_loss improved from 0.04445 to 0.03596, saving model to ./model/minst-cnn-03-0.0360.hdf5\n",
      "60000/60000 [==============================] - 44s 731us/sample - loss: 0.0706 - accuracy: 0.9793 - val_loss: 0.0360 - val_accuracy: 0.9878\n",
      "Epoch 4/50\n",
      "59800/60000 [============================>.] - ETA: 0s - loss: 0.0565 - accuracy: 0.9833\n",
      "Epoch 00004: val_loss improved from 0.03596 to 0.03256, saving model to ./model/minst-cnn-04-0.0326.hdf5\n",
      "60000/60000 [==============================] - 44s 736us/sample - loss: 0.0566 - accuracy: 0.9832 - val_loss: 0.0326 - val_accuracy: 0.9894\n",
      "Epoch 5/50\n",
      "59800/60000 [============================>.] - ETA: 0s - loss: 0.0497 - accuracy: 0.9844\n",
      "Epoch 00005: val_loss improved from 0.03256 to 0.03199, saving model to ./model/minst-cnn-05-0.0320.hdf5\n",
      "60000/60000 [==============================] - 44s 726us/sample - loss: 0.0497 - accuracy: 0.9844 - val_loss: 0.0320 - val_accuracy: 0.9894\n",
      "Epoch 6/50\n",
      "59800/60000 [============================>.] - ETA: 0s - loss: 0.0425 - accuracy: 0.9868\n",
      "Epoch 00006: val_loss improved from 0.03199 to 0.02824, saving model to ./model/minst-cnn-06-0.0282.hdf5\n",
      "60000/60000 [==============================] - 45s 751us/sample - loss: 0.0424 - accuracy: 0.9869 - val_loss: 0.0282 - val_accuracy: 0.9907\n",
      "Epoch 7/50\n",
      "59800/60000 [============================>.] - ETA: 0s - loss: 0.0394 - accuracy: 0.9878\n",
      "Epoch 00007: val_loss did not improve from 0.02824\n",
      "60000/60000 [==============================] - 45s 749us/sample - loss: 0.0394 - accuracy: 0.9878 - val_loss: 0.0304 - val_accuracy: 0.9906\n",
      "Epoch 8/50\n",
      "59800/60000 [============================>.] - ETA: 0s - loss: 0.0344 - accuracy: 0.9895\n",
      "Epoch 00008: val_loss did not improve from 0.02824\n",
      "60000/60000 [==============================] - 46s 769us/sample - loss: 0.0343 - accuracy: 0.9895 - val_loss: 0.0306 - val_accuracy: 0.9911\n",
      "Epoch 9/50\n",
      "59800/60000 [============================>.] - ETA: 0s - loss: 0.0329 - accuracy: 0.9897\n",
      "Epoch 00009: val_loss did not improve from 0.02824\n",
      "60000/60000 [==============================] - 45s 750us/sample - loss: 0.0330 - accuracy: 0.9896 - val_loss: 0.0303 - val_accuracy: 0.9907\n",
      "Epoch 10/50\n",
      "59800/60000 [============================>.] - ETA: 0s - loss: 0.0288 - accuracy: 0.9908\n",
      "Epoch 00010: val_loss improved from 0.02824 to 0.02818, saving model to ./model/minst-cnn-10-0.0282.hdf5\n",
      "60000/60000 [==============================] - 46s 770us/sample - loss: 0.0290 - accuracy: 0.9908 - val_loss: 0.0282 - val_accuracy: 0.9915\n",
      "Epoch 11/50\n",
      "59800/60000 [============================>.] - ETA: 0s - loss: 0.0265 - accuracy: 0.9913\n",
      "Epoch 00011: val_loss did not improve from 0.02818\n",
      "60000/60000 [==============================] - 44s 740us/sample - loss: 0.0266 - accuracy: 0.9912 - val_loss: 0.0303 - val_accuracy: 0.9917\n",
      "Epoch 12/50\n",
      "59800/60000 [============================>.] - ETA: 0s - loss: 0.0268 - accuracy: 0.9913\n",
      "Epoch 00012: val_loss did not improve from 0.02818\n",
      "60000/60000 [==============================] - 46s 760us/sample - loss: 0.0268 - accuracy: 0.9913 - val_loss: 0.0312 - val_accuracy: 0.9913\n",
      "Epoch 13/50\n",
      "59800/60000 [============================>.] - ETA: 0s - loss: 0.0246 - accuracy: 0.9922\n",
      "Epoch 00013: val_loss did not improve from 0.02818\n",
      "60000/60000 [==============================] - 46s 764us/sample - loss: 0.0245 - accuracy: 0.9922 - val_loss: 0.0283 - val_accuracy: 0.9926\n",
      "Epoch 14/50\n",
      "59800/60000 [============================>.] - ETA: 0s - loss: 0.0210 - accuracy: 0.9927\n",
      "Epoch 00014: val_loss improved from 0.02818 to 0.02798, saving model to ./model/minst-cnn-14-0.0280.hdf5\n",
      "60000/60000 [==============================] - 45s 742us/sample - loss: 0.0210 - accuracy: 0.9927 - val_loss: 0.0280 - val_accuracy: 0.9924\n",
      "Epoch 15/50\n",
      "59800/60000 [============================>.] - ETA: 0s - loss: 0.0214 - accuracy: 0.9928\n",
      "Epoch 00015: val_loss improved from 0.02798 to 0.02774, saving model to ./model/minst-cnn-15-0.0277.hdf5\n",
      "60000/60000 [==============================] - 46s 768us/sample - loss: 0.0215 - accuracy: 0.9927 - val_loss: 0.0277 - val_accuracy: 0.9932\n",
      "Epoch 16/50\n",
      "59800/60000 [============================>.] - ETA: 0s - loss: 0.0202 - accuracy: 0.9935\n",
      "Epoch 00016: val_loss did not improve from 0.02774\n",
      "60000/60000 [==============================] - 45s 758us/sample - loss: 0.0202 - accuracy: 0.9935 - val_loss: 0.0294 - val_accuracy: 0.9924\n",
      "Epoch 17/50\n",
      "59800/60000 [============================>.] - ETA: 0s - loss: 0.0176 - accuracy: 0.9942\n",
      "Epoch 00017: val_loss did not improve from 0.02774\n",
      "60000/60000 [==============================] - 46s 769us/sample - loss: 0.0177 - accuracy: 0.9942 - val_loss: 0.0307 - val_accuracy: 0.9916\n",
      "Epoch 18/50\n",
      "59800/60000 [============================>.] - ETA: 0s - loss: 0.0180 - accuracy: 0.9943\n",
      "Epoch 00018: val_loss did not improve from 0.02774\n",
      "60000/60000 [==============================] - 45s 751us/sample - loss: 0.0181 - accuracy: 0.9943 - val_loss: 0.0373 - val_accuracy: 0.9912\n",
      "Epoch 19/50\n",
      "59800/60000 [============================>.] - ETA: 0s - loss: 0.0167 - accuracy: 0.9945\n",
      "Epoch 00019: val_loss did not improve from 0.02774\n",
      "60000/60000 [==============================] - 45s 749us/sample - loss: 0.0167 - accuracy: 0.9945 - val_loss: 0.0324 - val_accuracy: 0.9920\n",
      "Epoch 20/50\n",
      "59800/60000 [============================>.] - ETA: 0s - loss: 0.0173 - accuracy: 0.9940\n",
      "Epoch 00020: val_loss did not improve from 0.02774\n",
      "60000/60000 [==============================] - 44s 738us/sample - loss: 0.0174 - accuracy: 0.9940 - val_loss: 0.0305 - val_accuracy: 0.9932\n",
      "Epoch 21/50\n",
      "59800/60000 [============================>.] - ETA: 0s - loss: 0.0152 - accuracy: 0.9949\n",
      "Epoch 00021: val_loss did not improve from 0.02774\n",
      "60000/60000 [==============================] - 45s 742us/sample - loss: 0.0153 - accuracy: 0.9949 - val_loss: 0.0282 - val_accuracy: 0.9931\n",
      "Epoch 22/50\n",
      "59800/60000 [============================>.] - ETA: 0s - loss: 0.0162 - accuracy: 0.9944\n",
      "Epoch 00022: val_loss did not improve from 0.02774\n",
      "60000/60000 [==============================] - 44s 736us/sample - loss: 0.0162 - accuracy: 0.9944 - val_loss: 0.0347 - val_accuracy: 0.9920\n",
      "Epoch 23/50\n",
      "59800/60000 [============================>.] - ETA: 0s - loss: 0.0148 - accuracy: 0.9950\n",
      "Epoch 00023: val_loss did not improve from 0.02774\n",
      "60000/60000 [==============================] - 45s 743us/sample - loss: 0.0148 - accuracy: 0.9950 - val_loss: 0.0294 - val_accuracy: 0.9934\n",
      "Epoch 24/50\n",
      "59800/60000 [============================>.] - ETA: 0s - loss: 0.0137 - accuracy: 0.9954\n",
      "Epoch 00024: val_loss did not improve from 0.02774\n",
      "60000/60000 [==============================] - 45s 743us/sample - loss: 0.0137 - accuracy: 0.9954 - val_loss: 0.0309 - val_accuracy: 0.9930\n",
      "Epoch 25/50\n",
      "59800/60000 [============================>.] - ETA: 0s - loss: 0.0135 - accuracy: 0.9956\n",
      "Epoch 00025: val_loss did not improve from 0.02774\n",
      "60000/60000 [==============================] - 44s 731us/sample - loss: 0.0135 - accuracy: 0.9956 - val_loss: 0.0315 - val_accuracy: 0.9928\n"
     ]
    }
   ],
   "source": [
    "history = model.fit(X_train, Y_train, validation_data=(X_test, Y_test), epochs=50, batch_size = 200, callbacks = [early_stopping_callbak, checkpointer])"
   ]
  },
  {
   "cell_type": "code",
   "execution_count": 34,
   "metadata": {},
   "outputs": [],
   "source": [
    "from tensorflow.keras.models import load_model\n",
    "del model"
   ]
  },
  {
   "cell_type": "code",
   "execution_count": 35,
   "metadata": {},
   "outputs": [],
   "source": [
    "model = load_model('model/minst-cnn-15-0.0277.hdf5')"
   ]
  },
  {
   "cell_type": "code",
   "execution_count": 36,
   "metadata": {},
   "outputs": [
    {
     "name": "stdout",
     "output_type": "stream",
     "text": [
      "\n",
      " Test Accuracy: 0.9932\n"
     ]
    }
   ],
   "source": [
    "# 테스트 정확도 출력\n",
    "print('\\n Test Accuracy: %.4f' %(model.evaluate(X_test, Y_test, verbose=0)[1]))"
   ]
  },
  {
   "cell_type": "code",
   "execution_count": 37,
   "metadata": {},
   "outputs": [],
   "source": [
    "# 테스트셋의 오차\n",
    "y_vloss = history.history['val_loss']\n",
    "# 학습셋의 오차\n",
    "y_loss = history.history['loss']"
   ]
  },
  {
   "cell_type": "code",
   "execution_count": 38,
   "metadata": {},
   "outputs": [
    {
     "data": {
      "image/png": "[encoded data removed]",
      "text/plain": [
       "<Figure size 576x432 with 1 Axes>"
      ]
     },
     "metadata": {
      "needs_background": "light"
     },
     "output_type": "display_data"
    }
   ],
   "source": [
    "# 그래프로 표현\n",
    "import numpy as np\n",
    "import matplotlib.pyplot as plt\n",
    "%matplotlib inline\n",
    "\n",
    "x_len = np.arange(1, len(y_loss)+1)\n",
    "plt.figure(figsize=(8,6))\n",
    "plt.plot(x_len, y_vloss, marker='.', c='red', label='Testset_loss')\n",
    "plt.plot(x_len, y_loss, marker='.', c='blue', label = 'Trainset_loss')\n",
    "\n",
    "plt.legend(loc='upper right')\n",
    "\n",
    "plt.grid()\n",
    "plt.xlabel('epoch')\n",
    "plt.ylabel('loss')\n",
    "plt.show()"
   ]
  }
 ],
 "metadata": {
  "kernelspec": {
   "display_name": "Python 3",
   "language": "python",
   "name": "python3"
  },
  "language_info": {
   "codemirror_mode": {
    "name": "ipython",
    "version": 3
   },
   "file_extension": ".py",
   "mimetype": "text/x-python",
   "name": "python",
   "nbconvert_exporter": "python",
   "pygments_lexer": "ipython3",
   "version": "3.7.7"
  }
 },
 "nbformat": 4,
 "nbformat_minor": 4
}
